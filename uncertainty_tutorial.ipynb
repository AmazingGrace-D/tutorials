{
 "cells": [
  {
   "cell_type": "code",
   "execution_count": 97,
   "metadata": {},
   "outputs": [],
   "source": [
    "import numpy as np\n",
    "from catboost import Pool, CatBoostRegressor\n",
    "import seaborn as sns\n",
    "import matplotlib.pyplot as plt"
   ]
  },
  {
   "cell_type": "code",
   "execution_count": 95,
   "metadata": {},
   "outputs": [],
   "source": [
    "# function for generating mean and variance\n",
    "def gen_parameters(num_cat=9, noise=0.1):\n",
    "    mean = np.random.rand(num_cat, num_cat)\n",
    "\n",
    "    var = np.zeros([num_cat, num_cat])\n",
    "    for i in range(num_cat):\n",
    "        for j in range(num_cat):\n",
    "            var[i,j] = noise\n",
    "\n",
    "    pixels_border = [[1,2], [1,6], [2,1], [2,3], [2,5], [2,7], [3,0], [3,4], [3,8], [4,1], [4,7], [5,2], [5,6], [6,3], [6,5], [7,4]]\n",
    "    pixels_inside = [[2,2], [2,6], [3,1], [3,2], [3,3], [3,5], [3,6], [3,7], [4,2], [4,3], [4,4], [4,5], [4,6], [5,3], [5,4], [5,5], [6,4]]\n",
    "    \n",
    "    for pixel in pixels_border:\n",
    "        var[pixel[0],pixel[1]] = 2*noise\n",
    "        \n",
    "    for pixel in pixels_inside:\n",
    "        var[pixel[0],pixel[1]] = 0\n",
    "    return mean, var"
   ]
  },
  {
   "cell_type": "code",
   "execution_count": 98,
   "metadata": {},
   "outputs": [
    {
     "name": "stdout",
     "output_type": "stream",
     "text": [
      "True data uncertainty (variance):\n"
     ]
    },
    {
     "data": {
      "image/png": "[encoded data removed]",
      "text/plain": [
       "<Figure size 432x288 with 2 Axes>"
      ]
     },
     "metadata": {
      "needs_background": "light"
     },
     "output_type": "display_data"
    }
   ],
   "source": [
    "# generate parameters and plot variance:\n",
    "mean, var = gen_parameters()\n",
    "print(\"True data uncertainty (variance):\")\n",
    "sns.heatmap(var, cmap=\"Reds\", vmin = 0.05, vmax = 0.25)\n",
    "plt.show()"
   ]
  },
  {
   "cell_type": "code",
   "execution_count": 55,
   "metadata": {},
   "outputs": [],
   "source": [
    "# function for generating train and validation sets\n",
    "def generate_training_data(n_samples, mean, var, num_cat=9):\n",
    "    train = []\n",
    "    target = []\n",
    "    val = []\n",
    "    val_target = []\n",
    "    pixels = [[2,2], [2,6], [3,1], [3,2], [3,3], [3,5], [3,6], [3,7], [4,2], [4,3], [4,4], [4,5], [4,6], [5,3], [5,4], [5,5], [6,4]]\n",
    "    for i in range(num_cat):\n",
    "        for j in range(num_cat):\n",
    "            if [i,j] in pixels:\n",
    "                continue\n",
    "            for _ in range(n_samples):\n",
    "                train.append([i,j])\n",
    "                val.append([i,j])\n",
    "                target.append(np.random.normal(mean[i,j], var[i,j]))\n",
    "                val_target.append(np.random.normal(mean[i,j], var[i,j]))\n",
    "    train = np.asarray(train)\n",
    "    target = np.asarray(target)\n",
    "\n",
    "    return train, target, val, val_target"
   ]
  },
  {
   "cell_type": "code",
   "execution_count": 75,
   "metadata": {},
   "outputs": [],
   "source": [
    "# generate train and validation datasets\n",
    "train, target, val, val_target = generate_training_data(1000, mean, var)\n",
    "\n",
    "train_pool = Pool(train, target, cat_features = [0, 1])\n",
    "val_pool = Pool(val, val_target, cat_features = [0, 1])\n",
    "\n",
    "# generate test, consisting of all possible feature combinations\n",
    "num_cat = 9\n",
    "test = []\n",
    "for i in range(num_cat):\n",
    "    for j in range(num_cat):\n",
    "        test.append([i,j])\n",
    "test = np.asarray(test)"
   ]
  },
  {
   "cell_type": "code",
   "execution_count": 76,
   "metadata": {},
   "outputs": [
    {
     "name": "stdout",
     "output_type": "stream",
     "text": [
      "best iteration = 984\n",
      "Predicted data uncertainty:\n"
     ]
    },
    {
     "data": {
      "image/png": "[encoded data removed]",
      "text/plain": [
       "<Figure size 432x288 with 2 Axes>"
      ]
     },
     "metadata": {
      "needs_background": "light"
     },
     "output_type": "display_data"
    }
   ],
   "source": [
    "# predict data uncertainty\n",
    "\n",
    "model = CatBoostRegressor(iterations=1000, learning_rate=0.2,\n",
    "                          loss_function='RMSEWithUncertainty', verbose = False)\n",
    "model.fit(train_pool, eval_set=val_pool)\n",
    "print(\"best iteration =\", model.get_best_iteration())\n",
    "preds = model.predict(test)\n",
    "\n",
    "mean_preds = preds[:,0]\n",
    "var_preds = preds[:,1]\n",
    "\n",
    "print(\"Predicted data uncertainty:\")\n",
    "\n",
    "sns.heatmap(var_preds.reshape([num_cat,num_cat]), cmap=\"Reds\", vmin = 0.05, vmax = 0.25)\n",
    "plt.show()"
   ]
  },
  {
   "cell_type": "code",
   "execution_count": 104,
   "metadata": {},
   "outputs": [],
   "source": [
    "def ensemble(train_pool, val_pool, num_samples=10, iters=1000, lr = 0.2):\n",
    "    ens_preds = []\n",
    "    for seed in range(num_samples):\n",
    "        model = CatBoostRegressor(random_seed = seed, iterations=iters, learning_rate=lr, \n",
    "                                 loss_function='RMSEWithUncertainty', posterior_sampling=True,\n",
    "                                 verbose=False)\n",
    "        model.fit(train_pool, eval_set=val_pool)\n",
    "        ens_preds.append(model.predict(test))\n",
    "    return ens_preds"
   ]
  },
  {
   "cell_type": "code",
   "execution_count": 105,
   "metadata": {
    "scrolled": true
   },
   "outputs": [
    {
     "name": "stdout",
     "output_type": "stream",
     "text": [
      "Knowledge uncertainty via ensemble:\n"
     ]
    },
    {
     "data": {
      "image/png": "[encoded data removed]",
      "text/plain": [
       "<Figure size 432x288 with 2 Axes>"
      ]
     },
     "metadata": {
      "needs_background": "light"
     },
     "output_type": "display_data"
    }
   ],
   "source": [
    "ens_preds = ensemble(train_pool, val_pool, num_samples=10, iters=1000, lr=0.2)\n",
    "ens_preds = np.asarray(ens_preds)\n",
    "knowledge = np.var(ens_preds, axis = 0)[:,0]\n",
    "\n",
    "print(\"Knowledge uncertainty via ensemble:\")            \n",
    "sns.heatmap(knowledge.reshape([num_cat,num_cat]), cmap=\"Reds\")\n",
    "plt.show()"
   ]
  },
  {
   "cell_type": "code",
   "execution_count": 100,
   "metadata": {},
   "outputs": [],
   "source": [
    "def virt_ensemble(train_pool, val_pool, num_samples=10, iters=1000, lr=0.2):\n",
    "    ens_preds = []\n",
    "    model = CatBoostRegressor(iterations=iters, learning_rate=lr, loss_function='RMSEWithUncertainty', \n",
    "                              posterior_sampling=True, verbose=False)\n",
    "    model.fit(train_pool, eval_set=val_pool)\n",
    "    ens_preds = model.virtual_ensembles_predict(test, prediction_type='VirtEnsembles', virtual_ensembles_count=num_samples)\n",
    "    return ens_preds"
   ]
  },
  {
   "cell_type": "code",
   "execution_count": 101,
   "metadata": {},
   "outputs": [
    {
     "name": "stdout",
     "output_type": "stream",
     "text": [
      "Knowledge uncertainty, virtual\n"
     ]
    },
    {
     "data": {
      "image/png": "[encoded data removed]",
      "text/plain": [
       "<Figure size 432x288 with 2 Axes>"
      ]
     },
     "metadata": {
      "needs_background": "light"
     },
     "output_type": "display_data"
    }
   ],
   "source": [
    "# we can deal with virtual ensemble similarty\n",
    "\n",
    "ens_preds = virt_ensemble(train_pool, val_pool, num_samples=10, iters=1000, lr = 0.2)\n",
    "\n",
    "ens_preds = np.asarray(ens_preds)\n",
    "ens_preds = ens_preds.reshape((81, 10, 2))\n",
    "\n",
    "knowledge = np.var(ens_preds, axis = 1)[:,0]\n",
    "\n",
    "print(\"Knowledge uncertainty, virtual\")\n",
    "sns.heatmap(knowledge.reshape([num_cat,num_cat]), cmap=\"Reds\")\n",
    "plt.show()"
   ]
  },
  {
   "cell_type": "code",
   "execution_count": 99,
   "metadata": {},
   "outputs": [
    {
     "data": {
      "image/png": "[encoded data removed]",
      "text/plain": [
       "<Figure size 432x288 with 2 Axes>"
      ]
     },
     "metadata": {
      "needs_background": "light"
     },
     "output_type": "display_data"
    }
   ],
   "source": [
    "# Use prediction_type='TotalUncertainty' and get the same result easier\n",
    "\n",
    "model = CatBoostRegressor(iterations=1000, learning_rate=0.2, loss_function='RMSEWithUncertainty', \n",
    "                          posterior_sampling=True, verbose=False)\n",
    "model.fit(train_pool, eval_set=val_pool)\n",
    "preds = model.virtual_ensembles_predict(test, prediction_type='TotalUncertainty', virtual_ensembles_count=10)\n",
    "knowledge = preds[:,1]\n",
    "\n",
    "sns.heatmap(knowledge.reshape([num_cat,num_cat]), cmap=\"Reds\")\n",
    "plt.show()"
   ]
  },
  {
   "cell_type": "code",
   "execution_count": null,
   "metadata": {},
   "outputs": [],
   "source": []
  }
 ],
 "metadata": {
  "kernelspec": {
   "display_name": "Python 3",
   "language": "python",
   "name": "python3"
  },
  "language_info": {
   "codemirror_mode": {
    "name": "ipython",
    "version": 3
   },
   "file_extension": ".py",
   "mimetype": "text/x-python",
   "name": "python",
   "nbconvert_exporter": "python",
   "pygments_lexer": "ipython3",
   "version": "3.6.9"
  }
 },
 "nbformat": 4,
 "nbformat_minor": 2
}
